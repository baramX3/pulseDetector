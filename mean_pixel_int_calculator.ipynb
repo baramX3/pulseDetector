{
 "cells": [
  {
   "cell_type": "code",
   "execution_count": 1,
   "metadata": {},
   "outputs": [],
   "source": [
    "import numpy as np\n",
    "import cv2 # for python: pip install opencv-python\n",
    "import glob"
   ]
  },
  {
   "cell_type": "code",
   "execution_count": 13,
   "metadata": {},
   "outputs": [],
   "source": [
    "file_dir = \"C://Users//sohme//Downloads//neuroimaging lab//\" # file directory where videos are located (MAY NEED TO CHANGE)\n",
    "file_extension = \"*.MP4\" # (MAY NEED TO CHANGE)\n",
    "EXTENSION_LENGTH = len(file_extension) - 1\n",
    "\n",
    "# grab all files under the specified directory with the specified extension\n",
    "file_names = glob.glob(file_dir + file_extension)\n",
    "\n",
    "'''\n",
    "Iterate through each video file to grab all frames. \n",
    "Calculate mean pixel intensity for each frame and save to an array.\n",
    "Save out the array with mean pixel intensity of every frame to a .cvs file.\n",
    "Thus, one .csv file is generated per one video.\n",
    "The first element of the .cvs file = fps of video.\n",
    "'''\n",
    "# Iterate through each file\n",
    "for i in file_names:\n",
    "    video = cv2.VideoCapture(i)\n",
    "    fps = video.get(cv2.CAP_PROP_FPS) # frames per second\n",
    "    START = int(fps*10) # frame num, 10 sec into recording\n",
    "    STOP = int(fps*40) # frame num, 40 sec into recoring\n",
    "    intensity = []\n",
    "\n",
    "    # Loop until the end of the video\n",
    "    while (video.isOpened()):\n",
    "        # Capture frame-by-frame\n",
    "        ret, frame = video.read()\n",
    "        if ret:\n",
    "            intensity.append(frame.mean())\n",
    "        else:\n",
    "            video.release()\n",
    "            break\n",
    "\n",
    "    # only include 10~40 sec of recording and add fps as first element of array\n",
    "    mean_int = np.array(np.append(fps, intensity[START+1 : STOP+1])) \n",
    "    \n",
    "    # save out mean pixel intensities for every frame to csv file in the working directory\n",
    "    mean_int.tofile(i[len(file_dir)-1:len(i)-EXTENSION_LENGTH] + \".csv\", sep = ',')"
   ]
  }
 ],
 "metadata": {
  "kernelspec": {
   "display_name": "Python 3",
   "language": "python",
   "name": "python3"
  },
  "language_info": {
   "codemirror_mode": {
    "name": "ipython",
    "version": 3
   },
   "file_extension": ".py",
   "mimetype": "text/x-python",
   "name": "python",
   "nbconvert_exporter": "python",
   "pygments_lexer": "ipython3",
   "version": "3.10.6"
  }
 },
 "nbformat": 4,
 "nbformat_minor": 2
}
